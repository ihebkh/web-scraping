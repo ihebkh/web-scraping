{
 "cells": [
  {
   "cell_type": "code",
   "execution_count": 2,
   "id": "0ef407cb-94d3-4151-a2db-de85aa3fa41f",
   "metadata": {
    "tags": []
   },
   "outputs": [],
   "source": [
    "\n",
    "\n",
    "from bs4 import BeautifulSoup\n",
    "import requests\n",
    "import pandas as pd\n",
    "\n",
    "\n"
   ]
  },
  {
   "cell_type": "code",
   "execution_count": 3,
   "id": "fca23641-4690-4120-abfb-6c81e11be20f",
   "metadata": {
    "tags": []
   },
   "outputs": [],
   "source": [
    "url = 'http://www.car-driver-paris.com/index.php/fr/tout-nos-services?gclid=CjwKCAiA2pyuBhBKEiwApLaIO2_nY1gBe6TKGPQqsubdftWwevV0M3WoTYgSZItMv8s756gd1lS7vhoC0c0QAvD_BwE'\n",
    "page = requests.get(url)\n",
    "soup = BeautifulSoup(page.text, 'html.parser')"
   ]
  },
  {
   "cell_type": "code",
   "execution_count": 4,
   "id": "ce9ef4c8-6c84-4c65-949c-9cc125b98680",
   "metadata": {
    "tags": []
   },
   "outputs": [
    {
     "name": "stdout",
     "output_type": "stream",
     "text": [
      "<div class=\"item-page\">\n",
      "<div class=\"content-links\">\n",
      "<ul>\n",
      "</ul>\n",
      "</div>\n",
      "<p>Car<span style=\"font-size: small;\"> driver Paris vous propose ses services de chauffeur privé en berline de luxe pour vos déplacements professionnels et privés, le tout en toute sécurité et dans un confort optimal. </span><br/><br/><span style=\"font-size: small;\">Nos chauffeurs, dans une tenue irréprochable, sont bilingues et dotés d'une efficacité pour répondre à toutes vos exigences dans la confidentialité la plus absolue. </span><br/><br/><span style=\"font-size: small;\">Pour votre bien être et un confort optimum, vous avez à disposition une bouteille d'eau, des confiseries et des magazines dans chacune de nos voitures.</span><br/><br/><span style=\"font-size: small;\">Voici les différentes prestations proposées :<br/><br/></span></p>\n",
      "<p><span><span><span style=\"color: #ffcc00;\"><strong>TRANSFERTS GARES/AÉROPORTS</strong></span> <br/><br/>Pour vos transferts aéroport ou gare, quelque soit votre heure d'arrivée, votre chauffeur vous attendra sur le quai de la gare ou après le contrôle des douanes à l'aéroport avec une pancarte personnalisée et vous aidera pour vos bagages. Ils emprunteront ensuite le trajet le plus adéquat afin d'optimiser vos déplacements.</span></span></p>\n",
      "<table border=\"1\" cellpadding=\"5\" frame=\"box\" style=\"width: 400px; border: 1px solid #ffffff;\">\n",
      "<tbody>\n",
      "<tr align=\"left\" valign=\"top\">\n",
      "<td>\n",
      "<p>Au départ de Paris/</p>\n",
      "<p>vers Paris</p>\n",
      "</td>\n",
      "<td style=\"text-align: center;\"><img alt=\"\" border=\"0\" src=\"/images/Classe-E-s.jpg\"/><br/>Berline \"luxe\"<br/>Mercedes class E</td>\n",
      "<td style=\"text-align: center;\"><span><img alt=\"\" border=\"0\" src=\"/images/Classe-S-s.jpg\"/><br/>Berline \"prestige\"</span><br/><span>Mercedes class S</span></td>\n",
      "<td style=\"text-align: center;\"><img alt=\"\" border=\"0\" src=\"/images/Viano-s.jpg\"/><br/>Van/Minibus/SUV</td>\n",
      "</tr>\n",
      "<tr>\n",
      "<td align=\"left\" valign=\"middle\">\n",
      "<p>Aéroport Roissy<br/><span style=\"line-height: 1.3em;\">Charles de Gaulle<br/><br/></span></p>\n",
      "</td>\n",
      "<td align=\"center\" valign=\"middle\">85€</td>\n",
      "<td align=\"center\" valign=\"middle\">175€</td>\n",
      "<td align=\"center\" valign=\"middle\">130€</td>\n",
      "</tr>\n",
      "<tr>\n",
      "<td align=\"left\" valign=\"middle\">Aéroport Orly<br/><br/><br/></td>\n",
      "<td align=\"center\" valign=\"middle\">75€</td>\n",
      "<td align=\"center\" valign=\"middle\">165€</td>\n",
      "<td align=\"center\" valign=\"middle\">120€</td>\n",
      "</tr>\n",
      "<tr>\n",
      "<td align=\"left\" valign=\"middle\">Gares Parisiennes <br/>Nord/Lyon/Est/<br/>Montparnasse</td>\n",
      "<td align=\"center\" valign=\"middle\">65€</td>\n",
      "<td align=\"center\" valign=\"middle\">100€</td>\n",
      "<td align=\"center\" valign=\"middle\">90€</td>\n",
      "</tr>\n",
      "</tbody>\n",
      "</table>\n",
      "<p> </p>\n",
      "<p>Pour la banlieue Parisienne, 77, 78, 91, 92, 93, 94, et 95 nous consulter</p>\n",
      "<p> <a href=\"/index.php/fr/devis-en-ligne\"><img alt=\"\" border=\"0\" src=\"/images/bt-demande.png\"/></a></p>\n",
      "<p><span><span style=\"color: #ffcc00;\"><strong>MISE A DISPOSITION - FORMULE MARIAGE</strong></span> <br/><br/>Pour un événement particulier (Mariages, journée professionnelle avec rendez vous ou autre... ), vous pouvez réserver un véhicule avec chauffeur pour quelques heures, la journée entière voire plus...</span></p>\n",
      "<table border=\"1\" cellpadding=\"5\" frame=\"box\" style=\"border: 1px solid #ffffff; width: 400px;\">\n",
      "<tbody>\n",
      "<tr align=\"left\" valign=\"top\">\n",
      "<td>\n",
      "<p>Paris et région<br/><span style=\"line-height: 1.3em;\">parisienne</span></p>\n",
      "</td>\n",
      "<td style=\"text-align: center;\"><img alt=\"\" border=\"0\" src=\"/images/Classe-E-s.jpg\"/><br/>Berline \"luxe\"<br/>Mercedes class E</td>\n",
      "<td style=\"text-align: center;\"><img alt=\"\" border=\"0\" src=\"/images/Classe-S-s.jpg\"/><br/>Berline \"prestige\"<br/>Mercedes class S</td>\n",
      "<td style=\"text-align: center;\"><img alt=\"\" border=\"0\" src=\"/images/Viano-s.jpg\"/><br/>Van/Minibus/SUV</td>\n",
      "</tr>\n",
      "<tr>\n",
      "<td align=\"left\" valign=\"middle\">\n",
      "<p>1 Heure</p>\n",
      "</td>\n",
      "<td align=\"center\" valign=\"middle\">70€</td>\n",
      "<td align=\"center\" valign=\"middle\">110€</td>\n",
      "<td align=\"center\" valign=\"middle\">80€</td>\n",
      "</tr>\n",
      "<tr>\n",
      "<td align=\"left\" valign=\"middle\"><br/>4 Heures<br/><br/></td>\n",
      "<td align=\"center\" valign=\"middle\">260€</td>\n",
      "<td align=\"center\" valign=\"middle\">400€</td>\n",
      "<td align=\"center\" valign=\"middle\">300€</td>\n",
      "</tr>\n",
      "<tr>\n",
      "<td align=\"left\" valign=\"middle\">8 Heures</td>\n",
      "<td align=\"center\" valign=\"middle\">520€</td>\n",
      "<td align=\"center\" valign=\"middle\">800€</td>\n",
      "<td align=\"center\" valign=\"middle\">600€<br/><br/></td>\n",
      "</tr>\n",
      "</tbody>\n",
      "</table>\n",
      "<p> <a href=\"/index.php/fr/devis-en-ligne\"><img alt=\"\" border=\"0\" src=\"/images/bt-demande.png\"/></a></p>\n",
      "<p><span><span style=\"color: #ffcc00;\"><strong>TRANSFERTS LONGUE DISTANCE</strong></span> <br/><br/>Car driver Paris vous accompagne dans vos trajets professionnels ou personnels de longue distance, que ce soit en Ile de France, France ou Europe. Profitez du confort de votre voiture, détendez-vous votre chauffeur privé vous accompagnera où vous le souhaitez.</span></p>\n",
      "<table border=\"1\" cellpadding=\"5\" frame=\"box\" style=\"border: 1px solid #ffffff; width: 400px;\">\n",
      "<tbody>\n",
      "<tr>\n",
      "<td>Villes</td>\n",
      "<td align=\"center\" valign=\"middle\"><img alt=\"\" border=\"0\" src=\"/images/Classe-E-s.jpg\"/><img alt=\"\" border=\"0\" src=\"/images/Classe-S-s.jpg\"/><br/>Berlines \"luxe\" ou \"prestige\"</td>\n",
      "<td align=\"center\" valign=\"middle\"><img alt=\"\" border=\"0\" src=\"/images/Viano-s.jpg\"/><br/>Van/Minibus/SUV</td>\n",
      "</tr>\n",
      "<tr>\n",
      "<td>Deauville</td>\n",
      "<td align=\"center\" valign=\"middle\">440€</td>\n",
      "<td align=\"center\" valign=\"middle\">600€</td>\n",
      "</tr>\n",
      "<tr>\n",
      "<td>Lille</td>\n",
      "<td align=\"center\" valign=\"middle\">400€</td>\n",
      "<td align=\"center\" valign=\"middle\">540€</td>\n",
      "</tr>\n",
      "<tr>\n",
      "<td>Lyon</td>\n",
      "<td align=\"center\" valign=\"middle\">690€</td>\n",
      "<td align=\"center\" valign=\"middle\">900€</td>\n",
      "</tr>\n",
      "<tr>\n",
      "<td>Bruxelles</td>\n",
      "<td align=\"center\" valign=\"middle\">530€</td>\n",
      "<td align=\"center\" valign=\"middle\">690€</td>\n",
      "</tr>\n",
      "<tr>\n",
      "<td>Genève</td>\n",
      "<td align=\"center\" valign=\"middle\">850€</td>\n",
      "<td align=\"center\" valign=\"middle\">980€</td>\n",
      "</tr>\n",
      "<tr>\n",
      "<td>Monaco</td>\n",
      "<td align=\"center\" colspan=\"2\" rowspan=\"4\" valign=\"middle\">Nous consulter</td>\n",
      "</tr>\n",
      "<tr>\n",
      "<td>Marseille</td>\n",
      "</tr>\n",
      "<tr>\n",
      "<td>Nice</td>\n",
      "</tr>\n",
      "<tr>\n",
      "<td>Strasbourg</td>\n",
      "</tr>\n",
      "</tbody>\n",
      "</table>\n",
      "<p> </p>\n",
      "<p><span style=\"color: #ffcc00;\"><strong>EXCURSIONS TOURISTIQUES/ÉVÉNEMENTS DIVERS</strong></span></p>\n",
      "<p>Car Driver Paris est à vos côtés pour vous faire découvrir les plus beaux sites touristiques français et autres événements ... Car Driver Paris a déjà participé aux événements majeurs de la capitale mais aussi de toute la France, durant toute l'année : </p>\n",
      "<p><em>Fashion Week – Rolland Garros – Tour de France – Festival de Cannes – Grand prix de Monaco – Salon de l’Agriculture – Salon de l’Automobile – Foire de Paris et bien d'autres....</em></p>\n",
      "<p><a href=\"/index.php/fr/devis-en-ligne\"><img alt=\"\" border=\"0\" height=\"30\" src=\"/images/bt-demande.png\" width=\"198\"/></a></p>\n",
      "<p>Tous nos tarifs sont TTC (TVA de 10% incluse).<br/>Nos tarifs sont applicables du lundi au vendredi de 8h à 20h.<br/>Majoration de 10% appliquée tous les soirs de 20h à 8h, le samedi, dimanche et jours fériés.<br/>Services inclus sans supplément : péage, parking, siège bébé et réhausseurs, poussette, vélo, fauteuil roulant et animaux domestiques.</p>\n",
      "</div>\n"
     ]
    }
   ],
   "source": [
    "container = soup.find('div', class_='item-page')\n",
    "print(container)\n"
   ]
  },
  {
   "cell_type": "code",
   "execution_count": 6,
   "id": "581b7434-db47-4da8-a7c1-f5a176892e7e",
   "metadata": {
    "tags": []
   },
   "outputs": [
    {
     "name": "stdout",
     "output_type": "stream",
     "text": [
      "<table border=\"1\" cellpadding=\"5\" frame=\"box\" style=\"width: 400px; border: 1px solid #ffffff;\">\n",
      "<tbody>\n",
      "<tr align=\"left\" valign=\"top\">\n",
      "<td>\n",
      "<p>Au départ de Paris/</p>\n",
      "<p>vers Paris</p>\n",
      "</td>\n",
      "<td style=\"text-align: center;\"><img alt=\"\" border=\"0\" src=\"/images/Classe-E-s.jpg\"/><br/>Berline \"luxe\"<br/>Mercedes class E</td>\n",
      "<td style=\"text-align: center;\"><span><img alt=\"\" border=\"0\" src=\"/images/Classe-S-s.jpg\"/><br/>Berline \"prestige\"</span><br/><span>Mercedes class S</span></td>\n",
      "<td style=\"text-align: center;\"><img alt=\"\" border=\"0\" src=\"/images/Viano-s.jpg\"/><br/>Van/Minibus/SUV</td>\n",
      "</tr>\n",
      "<tr>\n",
      "<td align=\"left\" valign=\"middle\">\n",
      "<p>Aéroport Roissy<br/><span style=\"line-height: 1.3em;\">Charles de Gaulle<br/><br/></span></p>\n",
      "</td>\n",
      "<td align=\"center\" valign=\"middle\">85€</td>\n",
      "<td align=\"center\" valign=\"middle\">175€</td>\n",
      "<td align=\"center\" valign=\"middle\">130€</td>\n",
      "</tr>\n",
      "<tr>\n",
      "<td align=\"left\" valign=\"middle\">Aéroport Orly<br/><br/><br/></td>\n",
      "<td align=\"center\" valign=\"middle\">75€</td>\n",
      "<td align=\"center\" valign=\"middle\">165€</td>\n",
      "<td align=\"center\" valign=\"middle\">120€</td>\n",
      "</tr>\n",
      "<tr>\n",
      "<td align=\"left\" valign=\"middle\">Gares Parisiennes <br/>Nord/Lyon/Est/<br/>Montparnasse</td>\n",
      "<td align=\"center\" valign=\"middle\">65€</td>\n",
      "<td align=\"center\" valign=\"middle\">100€</td>\n",
      "<td align=\"center\" valign=\"middle\">90€</td>\n",
      "</tr>\n",
      "</tbody>\n",
      "</table>\n"
     ]
    }
   ],
   "source": [
    "table = container.find('table')\n",
    "print(table)"
   ]
  },
  {
   "cell_type": "code",
   "execution_count": 9,
   "id": "96c5b493-0b6f-411b-9f10-0a2860839bc8",
   "metadata": {
    "tags": []
   },
   "outputs": [],
   "source": [
    "data_rows = []\n",
    "\n",
    "# Parcourir toutes les lignes du tableau\n",
    "for row in table.find_all('tr')[0:]:  # ajustez l'index selon si la première ligne est un en-tête ou non\n",
    "    cells = row.find_all('td')  # ou 'th' si nécessaire pour les en-têtes\n",
    "    data = [cell.text.strip() for cell in cells]  # Extraire le texte de chaque cellule\n",
    "    data_rows.append(data)  # Ajouter la liste des données de la ligne à la liste des données\n"
   ]
  },
  {
   "cell_type": "code",
   "execution_count": 10,
   "id": "6bf55c72-3e4f-4412-b6c0-6ad816ea021b",
   "metadata": {
    "tags": []
   },
   "outputs": [
    {
     "data": {
      "text/plain": [
       "[['Au départ de Paris/\\nvers Paris',\n",
       "  'Berline \"luxe\"Mercedes class E',\n",
       "  'Berline \"prestige\"Mercedes class S',\n",
       "  'Van/Minibus/SUV'],\n",
       " ['Aéroport RoissyCharles de Gaulle', '85€', '175€', '130€'],\n",
       " ['Aéroport Orly', '75€', '165€', '120€'],\n",
       " ['Gares Parisiennes\\xa0Nord/Lyon/Est/Montparnasse', '65€', '100€', '90€']]"
      ]
     },
     "execution_count": 10,
     "metadata": {},
     "output_type": "execute_result"
    }
   ],
   "source": [
    "data_rows"
   ]
  },
  {
   "cell_type": "code",
   "execution_count": 11,
   "id": "b4cd9233-c321-4959-8dd4-627371b43f85",
   "metadata": {
    "tags": []
   },
   "outputs": [],
   "source": [
    "df = pd.DataFrame(data_rows)"
   ]
  },
  {
   "cell_type": "code",
   "execution_count": 13,
   "id": "2f840bfd-288a-458e-9882-f072b6332eeb",
   "metadata": {
    "tags": []
   },
   "outputs": [],
   "source": [
    "df.columns = ['Au départ de Paris / vers Paris', 'Mercedes class E' , 'Mercedes class S' , 'Mercedes class V']\n"
   ]
  },
  {
   "cell_type": "code",
   "execution_count": 15,
   "id": "ea6236b3-bab7-4e8b-bbda-b09cedd1a1db",
   "metadata": {
    "tags": []
   },
   "outputs": [
    {
     "data": {
      "text/html": [
       "<div>\n",
       "<style scoped>\n",
       "    .dataframe tbody tr th:only-of-type {\n",
       "        vertical-align: middle;\n",
       "    }\n",
       "\n",
       "    .dataframe tbody tr th {\n",
       "        vertical-align: top;\n",
       "    }\n",
       "\n",
       "    .dataframe thead th {\n",
       "        text-align: right;\n",
       "    }\n",
       "</style>\n",
       "<table border=\"1\" class=\"dataframe\">\n",
       "  <thead>\n",
       "    <tr style=\"text-align: right;\">\n",
       "      <th></th>\n",
       "      <th>Au départ de Paris / vers Paris</th>\n",
       "      <th>Mercedes class E</th>\n",
       "      <th>Mercedes class S</th>\n",
       "      <th>Mercedes class V</th>\n",
       "    </tr>\n",
       "  </thead>\n",
       "  <tbody>\n",
       "    <tr>\n",
       "      <th>1</th>\n",
       "      <td>Aéroport RoissyCharles de Gaulle</td>\n",
       "      <td>85€</td>\n",
       "      <td>175€</td>\n",
       "      <td>130€</td>\n",
       "    </tr>\n",
       "    <tr>\n",
       "      <th>2</th>\n",
       "      <td>Aéroport Orly</td>\n",
       "      <td>75€</td>\n",
       "      <td>165€</td>\n",
       "      <td>120€</td>\n",
       "    </tr>\n",
       "    <tr>\n",
       "      <th>3</th>\n",
       "      <td>Gares Parisiennes Nord/Lyon/Est/Montparnasse</td>\n",
       "      <td>65€</td>\n",
       "      <td>100€</td>\n",
       "      <td>90€</td>\n",
       "    </tr>\n",
       "  </tbody>\n",
       "</table>\n",
       "</div>"
      ],
      "text/plain": [
       "                Au départ de Paris / vers Paris Mercedes class E  \\\n",
       "1              Aéroport RoissyCharles de Gaulle              85€   \n",
       "2                                 Aéroport Orly              75€   \n",
       "3  Gares Parisiennes Nord/Lyon/Est/Montparnasse              65€   \n",
       "\n",
       "  Mercedes class S Mercedes class V  \n",
       "1             175€             130€  \n",
       "2             165€             120€  \n",
       "3             100€              90€  "
      ]
     },
     "execution_count": 15,
     "metadata": {},
     "output_type": "execute_result"
    }
   ],
   "source": [
    "df = df.drop(0)\n",
    "df"
   ]
  },
  {
   "cell_type": "code",
   "execution_count": 16,
   "id": "b03328fe-d04a-4aa5-b1cf-f0971551aff8",
   "metadata": {
    "tags": []
   },
   "outputs": [],
   "source": [
    "df.to_excel('LOCATION_PARIS.xlsx', index=False)"
   ]
  },
  {
   "cell_type": "code",
   "execution_count": 25,
   "id": "0ac6d6bd-546a-419d-871d-d3c980f11c32",
   "metadata": {
    "tags": []
   },
   "outputs": [],
   "source": [
    "import matplotlib.pyplot as plt"
   ]
  },
  {
   "cell_type": "code",
   "execution_count": 26,
   "id": "0d380e16-c963-4f22-8a8a-9e1a7213d7f2",
   "metadata": {
    "tags": []
   },
   "outputs": [
    {
     "ename": "TypeError",
     "evalue": "no numeric data to plot",
     "output_type": "error",
     "traceback": [
      "\u001b[1;31m---------------------------------------------------------------------------\u001b[0m",
      "\u001b[1;31mTypeError\u001b[0m                                 Traceback (most recent call last)",
      "Cell \u001b[1;32mIn[26], line 7\u001b[0m\n\u001b[0;32m      4\u001b[0m fig, axes \u001b[38;5;241m=\u001b[39m plt\u001b[38;5;241m.\u001b[39msubplots(\u001b[38;5;241m1\u001b[39m, \u001b[38;5;241m3\u001b[39m, figsize\u001b[38;5;241m=\u001b[39m(\u001b[38;5;241m15\u001b[39m, \u001b[38;5;241m5\u001b[39m), sharey\u001b[38;5;241m=\u001b[39m\u001b[38;5;28;01mTrue\u001b[39;00m)\n\u001b[0;32m      6\u001b[0m \u001b[38;5;28;01mfor\u001b[39;00m i, col \u001b[38;5;129;01min\u001b[39;00m \u001b[38;5;28menumerate\u001b[39m(df\u001b[38;5;241m.\u001b[39mcolumns[\u001b[38;5;241m1\u001b[39m:]):\n\u001b[1;32m----> 7\u001b[0m     df\u001b[38;5;241m.\u001b[39mplot(x\u001b[38;5;241m=\u001b[39m\u001b[38;5;124m\"\u001b[39m\u001b[38;5;124mAu départ de Paris / vers Paris\u001b[39m\u001b[38;5;124m\"\u001b[39m, y\u001b[38;5;241m=\u001b[39mcol, kind\u001b[38;5;241m=\u001b[39m\u001b[38;5;124m\"\u001b[39m\u001b[38;5;124mbar\u001b[39m\u001b[38;5;124m\"\u001b[39m, ax\u001b[38;5;241m=\u001b[39maxes[i], color\u001b[38;5;241m=\u001b[39m\u001b[38;5;124m'\u001b[39m\u001b[38;5;124mskyblue\u001b[39m\u001b[38;5;124m'\u001b[39m, alpha\u001b[38;5;241m=\u001b[39m\u001b[38;5;241m0.7\u001b[39m)\n\u001b[0;32m      8\u001b[0m     axes[i]\u001b[38;5;241m.\u001b[39mset_title(col)\n\u001b[0;32m      9\u001b[0m     axes[i]\u001b[38;5;241m.\u001b[39mset_ylabel(\u001b[38;5;124m\"\u001b[39m\u001b[38;5;124mPrix (€)\u001b[39m\u001b[38;5;124m\"\u001b[39m)\n",
      "File \u001b[1;32m~\\anaconda3\\Lib\\site-packages\\pandas\\plotting\\_core.py:975\u001b[0m, in \u001b[0;36mPlotAccessor.__call__\u001b[1;34m(self, *args, **kwargs)\u001b[0m\n\u001b[0;32m    972\u001b[0m             label_name \u001b[38;5;241m=\u001b[39m label_kw \u001b[38;5;129;01mor\u001b[39;00m data\u001b[38;5;241m.\u001b[39mcolumns\n\u001b[0;32m    973\u001b[0m             data\u001b[38;5;241m.\u001b[39mcolumns \u001b[38;5;241m=\u001b[39m label_name\n\u001b[1;32m--> 975\u001b[0m \u001b[38;5;28;01mreturn\u001b[39;00m plot_backend\u001b[38;5;241m.\u001b[39mplot(data, kind\u001b[38;5;241m=\u001b[39mkind, \u001b[38;5;241m*\u001b[39m\u001b[38;5;241m*\u001b[39mkwargs)\n",
      "File \u001b[1;32m~\\anaconda3\\Lib\\site-packages\\pandas\\plotting\\_matplotlib\\__init__.py:71\u001b[0m, in \u001b[0;36mplot\u001b[1;34m(data, kind, **kwargs)\u001b[0m\n\u001b[0;32m     69\u001b[0m         kwargs[\u001b[38;5;124m\"\u001b[39m\u001b[38;5;124max\u001b[39m\u001b[38;5;124m\"\u001b[39m] \u001b[38;5;241m=\u001b[39m \u001b[38;5;28mgetattr\u001b[39m(ax, \u001b[38;5;124m\"\u001b[39m\u001b[38;5;124mleft_ax\u001b[39m\u001b[38;5;124m\"\u001b[39m, ax)\n\u001b[0;32m     70\u001b[0m plot_obj \u001b[38;5;241m=\u001b[39m PLOT_CLASSES[kind](data, \u001b[38;5;241m*\u001b[39m\u001b[38;5;241m*\u001b[39mkwargs)\n\u001b[1;32m---> 71\u001b[0m plot_obj\u001b[38;5;241m.\u001b[39mgenerate()\n\u001b[0;32m     72\u001b[0m plot_obj\u001b[38;5;241m.\u001b[39mdraw()\n\u001b[0;32m     73\u001b[0m \u001b[38;5;28;01mreturn\u001b[39;00m plot_obj\u001b[38;5;241m.\u001b[39mresult\n",
      "File \u001b[1;32m~\\anaconda3\\Lib\\site-packages\\pandas\\plotting\\_matplotlib\\core.py:446\u001b[0m, in \u001b[0;36mMPLPlot.generate\u001b[1;34m(self)\u001b[0m\n\u001b[0;32m    444\u001b[0m \u001b[38;5;28;01mdef\u001b[39;00m \u001b[38;5;21mgenerate\u001b[39m(\u001b[38;5;28mself\u001b[39m) \u001b[38;5;241m-\u001b[39m\u001b[38;5;241m>\u001b[39m \u001b[38;5;28;01mNone\u001b[39;00m:\n\u001b[0;32m    445\u001b[0m     \u001b[38;5;28mself\u001b[39m\u001b[38;5;241m.\u001b[39m_args_adjust()\n\u001b[1;32m--> 446\u001b[0m     \u001b[38;5;28mself\u001b[39m\u001b[38;5;241m.\u001b[39m_compute_plot_data()\n\u001b[0;32m    447\u001b[0m     \u001b[38;5;28mself\u001b[39m\u001b[38;5;241m.\u001b[39m_setup_subplots()\n\u001b[0;32m    448\u001b[0m     \u001b[38;5;28mself\u001b[39m\u001b[38;5;241m.\u001b[39m_make_plot()\n",
      "File \u001b[1;32m~\\anaconda3\\Lib\\site-packages\\pandas\\plotting\\_matplotlib\\core.py:632\u001b[0m, in \u001b[0;36mMPLPlot._compute_plot_data\u001b[1;34m(self)\u001b[0m\n\u001b[0;32m    630\u001b[0m \u001b[38;5;66;03m# no non-numeric frames or series allowed\u001b[39;00m\n\u001b[0;32m    631\u001b[0m \u001b[38;5;28;01mif\u001b[39;00m is_empty:\n\u001b[1;32m--> 632\u001b[0m     \u001b[38;5;28;01mraise\u001b[39;00m \u001b[38;5;167;01mTypeError\u001b[39;00m(\u001b[38;5;124m\"\u001b[39m\u001b[38;5;124mno numeric data to plot\u001b[39m\u001b[38;5;124m\"\u001b[39m)\n\u001b[0;32m    634\u001b[0m \u001b[38;5;28mself\u001b[39m\u001b[38;5;241m.\u001b[39mdata \u001b[38;5;241m=\u001b[39m numeric_data\u001b[38;5;241m.\u001b[39mapply(\u001b[38;5;28mself\u001b[39m\u001b[38;5;241m.\u001b[39m_convert_to_ndarray)\n",
      "\u001b[1;31mTypeError\u001b[0m: no numeric data to plot"
     ]
    },
    {
     "data": {
      "image/png": "[encoded data removed]",
      "text/plain": [
       "<Figure size 1500x500 with 3 Axes>"
      ]
     },
     "metadata": {},
     "output_type": "display_data"
    }
   ],
   "source": [
    "df.columns = df.columns.str.replace('€', '').str.strip()\n",
    "\n",
    "# Afficher les graphiques à barres pour chaque type de Mercedes\n",
    "fig, axes = plt.subplots(1, 3, figsize=(15, 5), sharey=True)\n",
    "\n",
    "for i, col in enumerate(df.columns[1:]):\n",
    "    df.plot(x=\"Au départ de Paris / vers Paris\", y=col, kind=\"bar\", ax=axes[i], color='skyblue', alpha=0.7)\n",
    "    axes[i].set_title(col)\n",
    "    axes[i].set_ylabel(\"Prix (€)\")\n",
    "    axes[i].set_xlabel(\"Trajet\")\n",
    "    axes[i].grid(axis='y', linestyle='--', alpha=0.7)\n",
    "\n",
    "plt.tight_layout()\n",
    "plt.show()\n"
   ]
  },
  {
   "cell_type": "code",
   "execution_count": 22,
   "id": "e59dae82-26ea-4aaf-b371-a17af6a7a782",
   "metadata": {
    "tags": []
   },
   "outputs": [
    {
     "name": "stdout",
     "output_type": "stream",
     "text": [
      "Index(['Au départ de Paris / vers Paris', 'Mercedes class E',\n",
      "       'Mercedes class S', 'Mercedes class V'],\n",
      "      dtype='object')\n"
     ]
    }
   ],
   "source": [
    "print(df.columns)\n"
   ]
  },
  {
   "cell_type": "code",
   "execution_count": 28,
   "id": "b6553c94-9d83-48e2-8a98-8ce8b7838573",
   "metadata": {
    "tags": []
   },
   "outputs": [
    {
     "data": {
      "image/png": "[encoded data removed]",
      "text/plain": [
       "<Figure size 1800x600 with 3 Axes>"
      ]
     },
     "metadata": {},
     "output_type": "display_data"
    }
   ],
   "source": [
    "import pandas as pd\n",
    "import matplotlib.pyplot as plt\n",
    "\n",
    "# Définir les données sous forme de dictionnaire\n",
    "data = {\n",
    "    \"Trajet\": [\"Aéroport Roissy-Charles de Gaulle\", \"Aéroport Orly\", \"Gares Parisiennes Nord/Lyon/Est/Montparnasse\"],\n",
    "    \"Mercedes class E\": [85, 75, 65],\n",
    "    \"Mercedes class S\": [175, 165, 100],\n",
    "    \"Mercedes class V\": [130, 120, 90]\n",
    "}\n",
    "\n",
    "# Créer le DataFrame\n",
    "df = pd.DataFrame(data)\n",
    "\n",
    "# Supprimer les caractères spéciaux dans les noms de colonnes\n",
    "df.columns = df.columns.str.replace('€', '').str.strip()\n",
    "\n",
    "# Afficher un graphique à barres pour chaque type de Mercedes avec une taille agrandie\n",
    "fig, axes = plt.subplots(1, 3, figsize=(18, 6), sharey=True)  # Modifier la taille ici\n",
    "\n",
    "for i, col in enumerate(df.columns[1:]):\n",
    "    df.plot(x=\"Trajet\", y=col, kind=\"bar\", ax=axes[i], color='skyblue', alpha=0.7)\n",
    "    axes[i].set_title(col)\n",
    "    axes[i].set_ylabel(\"Prix (€)\")\n",
    "    axes[i].set_xlabel(\"Trajet\")\n",
    "    axes[i].grid(axis='y', linestyle='--', alpha=0.7)\n",
    "\n",
    "plt.tight_layout()\n",
    "plt.show()\n",
    "\n"
   ]
  },
  {
   "cell_type": "code",
   "execution_count": null,
   "id": "2e201373-9f46-42b1-a9cc-58de6485efad",
   "metadata": {},
   "outputs": [],
   "source": [
    "# Mercedes class E :\n",
    "\n",
    "#Le prix pour le trajet \"Gares Parisiennes Nord/Lyon/Est/Montparnasse\" est le plus bas, suivi par \"Aéroport Orly\" et \"Aéroport Roissy-Charles de Gaulle\".\n",
    "#Le prix le plus élevé est observé pour le trajet \"Aéroport Roissy-Charles de Gaulle\".\n",
    "#Mercedes class S :\n",
    "\n",
    "#Le trajet \"Aéroport Roissy-Charles de Gaulle\" a le prix le plus élevé, suivi par \"Aéroport Orly\" et \"Gares Parisiennes Nord/Lyon/Est/Montparnasse\".\n",
    "#Le prix le plus bas est pour le trajet \"Gares Parisiennes Nord/Lyon/Est/Montparnasse\".\n",
    "#Mercedes class V :\n",
    "\n",
    "#Comme pour les autres classes, le prix est le plus bas pour le trajet \"Gares Parisiennes Nord/Lyon/Est/Montparnasse\" et le plus élevé pour \"Aéroport Roissy-Charles de Gaulle\".\n",
    "#Le trajet \"Aéroport Orly\" a des prix intermédiaires pour cette classe."
   ]
  },
  {
   "cell_type": "code",
   "execution_count": null,
   "id": "d98e171e-2bf5-4a70-be80-23f6de0f5455",
   "metadata": {},
   "outputs": [],
   "source": []
  },
  {
   "cell_type": "code",
   "execution_count": null,
   "id": "f01eaac6-eeb1-4c64-950b-03f169e82317",
   "metadata": {},
   "outputs": [],
   "source": []
  },
  {
   "cell_type": "code",
   "execution_count": null,
   "id": "338e23b2-ab89-4721-8666-f0bffcc560ae",
   "metadata": {},
   "outputs": [],
   "source": []
  }
 ],
 "metadata": {
  "kernelspec": {
   "display_name": "Python 3 (ipykernel)",
   "language": "python",
   "name": "python3"
  },
  "language_info": {
   "codemirror_mode": {
    "name": "ipython",
    "version": 3
   },
   "file_extension": ".py",
   "mimetype": "text/x-python",
   "name": "python",
   "nbconvert_exporter": "python",
   "pygments_lexer": "ipython3",
   "version": "3.11.5"
  }
 },
 "nbformat": 4,
 "nbformat_minor": 5
}
